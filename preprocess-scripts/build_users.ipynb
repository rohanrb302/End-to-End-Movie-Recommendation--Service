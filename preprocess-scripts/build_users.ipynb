{
 "metadata": {
  "language_info": {
   "codemirror_mode": {
    "name": "ipython",
    "version": 3
   },
   "file_extension": ".py",
   "mimetype": "text/x-python",
   "name": "python",
   "nbconvert_exporter": "python",
   "pygments_lexer": "ipython3",
   "version": "3.6.9-final"
  },
  "orig_nbformat": 2,
  "kernelspec": {
   "name": "python_defaultSpec_1600625087499",
   "display_name": "Python 3.6.9 64-bit"
  }
 },
 "nbformat": 4,
 "nbformat_minor": 2,
 "cells": [
  {
   "cell_type": "code",
   "execution_count": 2,
   "metadata": {},
   "outputs": [],
   "source": [
    "import pandas as pd\n",
    "import requests"
   ]
  },
  {
   "cell_type": "code",
   "execution_count": 3,
   "metadata": {},
   "outputs": [
    {
     "output_type": "execute_result",
     "data": {
      "text/plain": "   userid  rating                movie  year                   movieid\n0   11880       5      cinema paradiso  1988      cinema+paradiso+1988\n1  143289       5     forces of nature  1999     forces+of+nature+1999\n2  131839       3                speed  1994                speed+1994\n3   83318       4     love  basketball  2000     love++basketball+2000\n4   30046       5  saving private ryan  1998  saving+private+ryan+1998",
      "text/html": "<div>\n<style scoped>\n    .dataframe tbody tr th:only-of-type {\n        vertical-align: middle;\n    }\n\n    .dataframe tbody tr th {\n        vertical-align: top;\n    }\n\n    .dataframe thead th {\n        text-align: right;\n    }\n</style>\n<table border=\"1\" class=\"dataframe\">\n  <thead>\n    <tr style=\"text-align: right;\">\n      <th></th>\n      <th>userid</th>\n      <th>rating</th>\n      <th>movie</th>\n      <th>year</th>\n      <th>movieid</th>\n    </tr>\n  </thead>\n  <tbody>\n    <tr>\n      <th>0</th>\n      <td>11880</td>\n      <td>5</td>\n      <td>cinema paradiso</td>\n      <td>1988</td>\n      <td>cinema+paradiso+1988</td>\n    </tr>\n    <tr>\n      <th>1</th>\n      <td>143289</td>\n      <td>5</td>\n      <td>forces of nature</td>\n      <td>1999</td>\n      <td>forces+of+nature+1999</td>\n    </tr>\n    <tr>\n      <th>2</th>\n      <td>131839</td>\n      <td>3</td>\n      <td>speed</td>\n      <td>1994</td>\n      <td>speed+1994</td>\n    </tr>\n    <tr>\n      <th>3</th>\n      <td>83318</td>\n      <td>4</td>\n      <td>love  basketball</td>\n      <td>2000</td>\n      <td>love++basketball+2000</td>\n    </tr>\n    <tr>\n      <th>4</th>\n      <td>30046</td>\n      <td>5</td>\n      <td>saving private ryan</td>\n      <td>1998</td>\n      <td>saving+private+ryan+1998</td>\n    </tr>\n  </tbody>\n</table>\n</div>"
     },
     "metadata": {},
     "execution_count": 3
    }
   ],
   "source": [
    "ratings = pd.read_csv(\"processed_ratings.csv\")\n",
    "ratings.head()"
   ]
  },
  {
   "cell_type": "code",
   "execution_count": 14,
   "metadata": {},
   "outputs": [
    {
     "output_type": "execute_result",
     "data": {
      "text/plain": "246602"
     },
     "metadata": {},
     "execution_count": 14
    }
   ],
   "source": [
    "user_api_url = \"http://128.2.204.215:8080/user/\"\n",
    "users = [requests.get(user_api_url + str(user)).json() for user in ratings['userid'].unique()]\n",
    "len(users)"
   ]
  },
  {
   "cell_type": "code",
   "execution_count": 15,
   "metadata": {},
   "outputs": [
    {
     "output_type": "execute_result",
     "data": {
      "text/plain": "246600"
     },
     "metadata": {},
     "execution_count": 15
    }
   ],
   "source": [
    "users = list(filter(lambda x: x.get('message','valid userID') != 'invalid userID', users))\n",
    "len(users)"
   ]
  },
  {
   "cell_type": "code",
   "execution_count": 16,
   "metadata": {},
   "outputs": [],
   "source": [
    "users = list(map(pd.io.json.json_normalize, users))"
   ]
  },
  {
   "cell_type": "code",
   "execution_count": 19,
   "metadata": {},
   "outputs": [
    {
     "output_type": "execute_result",
     "data": {
      "text/plain": "   user_id  age            occupation gender\n0    11880   26          K-12 student      M\n1   143289   26             scientist      M\n2   131839   33  executive/managerial      M\n3    83318   30  college/grad student      M\n4    30046   30  executive/managerial      M",
      "text/html": "<div>\n<style scoped>\n    .dataframe tbody tr th:only-of-type {\n        vertical-align: middle;\n    }\n\n    .dataframe tbody tr th {\n        vertical-align: top;\n    }\n\n    .dataframe thead th {\n        text-align: right;\n    }\n</style>\n<table border=\"1\" class=\"dataframe\">\n  <thead>\n    <tr style=\"text-align: right;\">\n      <th></th>\n      <th>user_id</th>\n      <th>age</th>\n      <th>occupation</th>\n      <th>gender</th>\n    </tr>\n  </thead>\n  <tbody>\n    <tr>\n      <th>0</th>\n      <td>11880</td>\n      <td>26</td>\n      <td>K-12 student</td>\n      <td>M</td>\n    </tr>\n    <tr>\n      <th>1</th>\n      <td>143289</td>\n      <td>26</td>\n      <td>scientist</td>\n      <td>M</td>\n    </tr>\n    <tr>\n      <th>2</th>\n      <td>131839</td>\n      <td>33</td>\n      <td>executive/managerial</td>\n      <td>M</td>\n    </tr>\n    <tr>\n      <th>3</th>\n      <td>83318</td>\n      <td>30</td>\n      <td>college/grad student</td>\n      <td>M</td>\n    </tr>\n    <tr>\n      <th>4</th>\n      <td>30046</td>\n      <td>30</td>\n      <td>executive/managerial</td>\n      <td>M</td>\n    </tr>\n  </tbody>\n</table>\n</div>"
     },
     "metadata": {},
     "execution_count": 19
    }
   ],
   "source": [
    "users_data = pd.concat(users).reset_index(drop=True)\n",
    "users_data = users_data.drop_duplicates(subset=['user_id'])\n",
    "\n"
   ]
  },
  {
   "cell_type": "code",
   "execution_count": 24,
   "metadata": {},
   "outputs": [],
   "source": [
    "users_data.to_csv(\"users.csv\", index=False)"
   ]
  },
  {
   "cell_type": "code",
   "execution_count": 26,
   "metadata": {},
   "outputs": [
    {
     "output_type": "execute_result",
     "data": {
      "text/plain": "(214834, 4)"
     },
     "metadata": {},
     "execution_count": 26
    }
   ],
   "source": [
    "users_data.shape"
   ]
  }
 ]
}