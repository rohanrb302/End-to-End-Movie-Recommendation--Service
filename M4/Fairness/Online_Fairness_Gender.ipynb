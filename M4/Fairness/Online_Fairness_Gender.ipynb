{
 "cells": [
  {
   "cell_type": "markdown",
   "metadata": {},
   "source": [
    "# Fairness Validation by Online Evaluation Telemetry"
   ]
  },
  {
   "cell_type": "markdown",
   "metadata": {},
   "source": [
    "## STEP ONE - Set up environment and connection\n",
    "\n",
    "In this fairness analysis, we will use our online evaluation data in RDS database, which is keep updating"
   ]
  },
  {
   "cell_type": "code",
   "execution_count": 1,
   "metadata": {},
   "outputs": [],
   "source": [
    "import argparse\n",
    "import json\n",
    "\n",
    "import pandas as pd\n",
    "import sqlalchemy"
   ]
  },
  {
   "cell_type": "code",
   "execution_count": 2,
   "metadata": {},
   "outputs": [],
   "source": [
    "def connect_db(dbConf):\n",
    "    '''\n",
    "    Setup DB connection\n",
    "    '''\n",
    "    # Build connection URL\n",
    "    dburl = 'postgresql://{}:{}@{}:{}/{}'.format(\n",
    "        dbConf['username'],\n",
    "        dbConf['password'],\n",
    "        dbConf['host'],\n",
    "        dbConf['port'],\n",
    "        dbConf['db_name']\n",
    "    )\n",
    "\n",
    "    return sqlalchemy.create_engine(dburl, client_encoding='utf8')"
   ]
  },
  {
   "cell_type": "code",
   "execution_count": 3,
   "metadata": {},
   "outputs": [],
   "source": [
    "config = {\n",
    "    \"host\": \"seai-recommendation-system-postgresql.czf7x8tyyg2u.us-east-1.rds.amazonaws.com\",\n",
    "    \"username\": \"postgres\",\n",
    "    \"password\": \"teamjurassicpark\",\n",
    "    \"port\": \"5432\",\n",
    "    \"db_name\":\"recommendation_system\"\n",
    "}"
   ]
  },
  {
   "cell_type": "code",
   "execution_count": 4,
   "metadata": {},
   "outputs": [],
   "source": [
    "# connect to db\n",
    "engine = connect_db(config)\n",
    "\n",
    "# select rows with specified model id\n",
    "with engine.connect() as con:\n",
    "    df = pd.read_sql_query('SELECT * FROM recommendations;', con=con)\n",
    "\n",
    "engine.dispose()"
   ]
  },
  {
   "cell_type": "code",
   "execution_count": 5,
   "metadata": {},
   "outputs": [
    {
     "data": {
      "text/html": [
       "<div>\n",
       "<style scoped>\n",
       "    .dataframe tbody tr th:only-of-type {\n",
       "        vertical-align: middle;\n",
       "    }\n",
       "\n",
       "    .dataframe tbody tr th {\n",
       "        vertical-align: top;\n",
       "    }\n",
       "\n",
       "    .dataframe thead th {\n",
       "        text-align: right;\n",
       "    }\n",
       "</style>\n",
       "<table border=\"1\" class=\"dataframe\">\n",
       "  <thead>\n",
       "    <tr style=\"text-align: right;\">\n",
       "      <th></th>\n",
       "      <th>user_id</th>\n",
       "      <th>movie_id</th>\n",
       "      <th>rating</th>\n",
       "      <th>model_id</th>\n",
       "      <th>recommended_at</th>\n",
       "    </tr>\n",
       "  </thead>\n",
       "  <tbody>\n",
       "    <tr>\n",
       "      <th>0</th>\n",
       "      <td>147880</td>\n",
       "      <td>the+intouchables+2011</td>\n",
       "      <td>0</td>\n",
       "      <td>model_2020-12-04_02:29:13</td>\n",
       "      <td>2020-12-09 06:45:15.149622</td>\n",
       "    </tr>\n",
       "    <tr>\n",
       "      <th>1</th>\n",
       "      <td>147880</td>\n",
       "      <td>touch+of+evil+1958</td>\n",
       "      <td>0</td>\n",
       "      <td>model_2020-12-04_02:29:13</td>\n",
       "      <td>2020-12-09 06:45:15.149622</td>\n",
       "    </tr>\n",
       "    <tr>\n",
       "      <th>2</th>\n",
       "      <td>147880</td>\n",
       "      <td>seven+chances+1925</td>\n",
       "      <td>0</td>\n",
       "      <td>model_2020-12-04_02:29:13</td>\n",
       "      <td>2020-12-09 06:45:15.149622</td>\n",
       "    </tr>\n",
       "    <tr>\n",
       "      <th>3</th>\n",
       "      <td>147880</td>\n",
       "      <td>life+is+beautiful+1997</td>\n",
       "      <td>0</td>\n",
       "      <td>model_2020-12-04_02:29:13</td>\n",
       "      <td>2020-12-09 06:45:15.149622</td>\n",
       "    </tr>\n",
       "    <tr>\n",
       "      <th>4</th>\n",
       "      <td>147880</td>\n",
       "      <td>raiders+of+the+lost+ark+1981</td>\n",
       "      <td>0</td>\n",
       "      <td>model_2020-12-04_02:29:13</td>\n",
       "      <td>2020-12-09 06:45:15.149622</td>\n",
       "    </tr>\n",
       "  </tbody>\n",
       "</table>\n",
       "</div>"
      ],
      "text/plain": [
       "   user_id                      movie_id  rating                   model_id  \\\n",
       "0   147880         the+intouchables+2011       0  model_2020-12-04_02:29:13   \n",
       "1   147880            touch+of+evil+1958       0  model_2020-12-04_02:29:13   \n",
       "2   147880            seven+chances+1925       0  model_2020-12-04_02:29:13   \n",
       "3   147880        life+is+beautiful+1997       0  model_2020-12-04_02:29:13   \n",
       "4   147880  raiders+of+the+lost+ark+1981       0  model_2020-12-04_02:29:13   \n",
       "\n",
       "              recommended_at  \n",
       "0 2020-12-09 06:45:15.149622  \n",
       "1 2020-12-09 06:45:15.149622  \n",
       "2 2020-12-09 06:45:15.149622  \n",
       "3 2020-12-09 06:45:15.149622  \n",
       "4 2020-12-09 06:45:15.149622  "
      ]
     },
     "execution_count": 5,
     "metadata": {},
     "output_type": "execute_result"
    }
   ],
   "source": [
    "df.head()"
   ]
  },
  {
   "cell_type": "code",
   "execution_count": 6,
   "metadata": {},
   "outputs": [
    {
     "data": {
      "text/plain": [
       "(9689300, 5)"
      ]
     },
     "execution_count": 6,
     "metadata": {},
     "output_type": "execute_result"
    }
   ],
   "source": [
    "df.shape"
   ]
  },
  {
   "cell_type": "code",
   "execution_count": 7,
   "metadata": {},
   "outputs": [],
   "source": [
    "df = df.sort_values(by='recommended_at')"
   ]
  },
  {
   "cell_type": "code",
   "execution_count": 8,
   "metadata": {},
   "outputs": [],
   "source": [
    "df_test = df.copy()"
   ]
  },
  {
   "cell_type": "code",
   "execution_count": 9,
   "metadata": {},
   "outputs": [],
   "source": [
    "df_test = df_test.set_index('recommended_at')"
   ]
  },
  {
   "cell_type": "code",
   "execution_count": 10,
   "metadata": {},
   "outputs": [
    {
     "data": {
      "text/plain": [
       "(9689300, 4)"
      ]
     },
     "execution_count": 10,
     "metadata": {},
     "output_type": "execute_result"
    }
   ],
   "source": [
    "df_test.shape"
   ]
  },
  {
   "cell_type": "code",
   "execution_count": 11,
   "metadata": {},
   "outputs": [],
   "source": [
    "import matplotlib.pyplot as plt\n",
    "import seaborn as sns\n",
    "# Use seaborn style defaults and set the default figure size\n",
    "sns.set(rc={'figure.figsize':(11, 4)})"
   ]
  },
  {
   "cell_type": "code",
   "execution_count": 12,
   "metadata": {},
   "outputs": [],
   "source": [
    "df_temp=df_test.groupby('movie_id')['user_id'].nunique()"
   ]
  },
  {
   "cell_type": "markdown",
   "metadata": {},
   "source": [
    "### Which movies are recommend most to users"
   ]
  },
  {
   "cell_type": "code",
   "execution_count": 13,
   "metadata": {},
   "outputs": [
    {
     "data": {
      "text/plain": [
       "the+intouchables+2011                                    197966\n",
       "the+godfather+part+ii+1974                               197523\n",
       "life+is+beautiful+1997                                   197517\n",
       "star+wars+1977                                           196891\n",
       "the+lord+of+the+rings+the+return+of+the+king+2003        196889\n",
       "the+empire+strikes+back+1980                             196643\n",
       "spirited+away+2001                                       196581\n",
       "the+lord+of+the+rings+the+fellowship+of+the+ring+2001    196476\n",
       "schindlers+list+1993                                     195677\n",
       "inception+2010                                           194393\n",
       "Name: movie_id, dtype: int64"
      ]
     },
     "execution_count": 13,
     "metadata": {},
     "output_type": "execute_result"
    }
   ],
   "source": [
    "(df['movie_id'].value_counts().sort_values(ascending=False)[0:10])"
   ]
  },
  {
   "cell_type": "markdown",
   "metadata": {},
   "source": [
    "### Which moives do users like most?\n",
    "Remember our telemetry rating is in range \\[-1,1\\]. Any movie above 0 rating means user like it."
   ]
  },
  {
   "cell_type": "code",
   "execution_count": 14,
   "metadata": {},
   "outputs": [],
   "source": [
    "df_temp=df_test.groupby('movie_id')['rating'].mean().sort_values(ascending=False)"
   ]
  },
  {
   "cell_type": "code",
   "execution_count": 15,
   "metadata": {},
   "outputs": [
    {
     "data": {
      "text/plain": [
       "movie_id\n",
       "the+shawshank+redemption+1994    0.308428\n",
       "the+godfather+1972               0.169718\n",
       "the+dark+knight+2008             0.128734\n",
       "fight+club+1999                  0.105826\n",
       "pulp+fiction+1994                0.083466\n",
       "Name: rating, dtype: float64"
      ]
     },
     "execution_count": 15,
     "metadata": {},
     "output_type": "execute_result"
    }
   ],
   "source": [
    "df_temp.head()"
   ]
  },
  {
   "cell_type": "markdown",
   "metadata": {},
   "source": [
    "## STEP TWO - Load the original kafka data for subpopulation validation\n",
    "\n",
    "users.csv is a file we dump directly from kafka stream, it contains Age / Gender information. We will merge it with the recommendation table to test the fairness performance"
   ]
  },
  {
   "cell_type": "code",
   "execution_count": 16,
   "metadata": {},
   "outputs": [],
   "source": [
    "users = pd.read_csv('users.csv')"
   ]
  },
  {
   "cell_type": "code",
   "execution_count": 17,
   "metadata": {},
   "outputs": [
    {
     "name": "stdout",
     "output_type": "stream",
     "text": [
      "<class 'pandas.core.frame.DataFrame'>\n",
      "RangeIndex: 572998 entries, 0 to 572997\n",
      "Data columns (total 4 columns):\n",
      " #   Column      Non-Null Count   Dtype \n",
      "---  ------      --------------   ----- \n",
      " 0   user_id     572998 non-null  int64 \n",
      " 1   age         572998 non-null  int64 \n",
      " 2   occupation  572998 non-null  object\n",
      " 3   gender      572998 non-null  object\n",
      "dtypes: int64(2), object(2)\n",
      "memory usage: 17.5+ MB\n"
     ]
    }
   ],
   "source": [
    "users.info()"
   ]
  },
  {
   "cell_type": "markdown",
   "metadata": {},
   "source": [
    "### Merge two table, only keep the intersection of users"
   ]
  },
  {
   "cell_type": "code",
   "execution_count": 18,
   "metadata": {},
   "outputs": [],
   "source": [
    "df_temp = pd.merge(df,users,on='user_id',how='left').dropna()"
   ]
  },
  {
   "cell_type": "markdown",
   "metadata": {},
   "source": [
    "## STEP THREE -  Get the subpopulation data, see what we recommended and what they like\n",
    "Interestingly enough, the movies recommended most to every subpopulation aren't exact the same. "
   ]
  },
  {
   "cell_type": "code",
   "execution_count": 19,
   "metadata": {},
   "outputs": [],
   "source": [
    "male_users = df_temp[df_temp.gender == \"M\"]\n",
    "female_users = df_temp[df_temp.gender == \"F\"]\n",
    "df_temp.age\n",
    "aged_users = df_temp[df_temp.age > df_temp[\"age\"].mean()]\n",
    "young_user = df_temp[df_temp.age < df_temp[\"age\"].mean()]"
   ]
  },
  {
   "cell_type": "markdown",
   "metadata": {},
   "source": [
    "## Top 10 movies recommended most to male user group"
   ]
  },
  {
   "cell_type": "code",
   "execution_count": 53,
   "metadata": {},
   "outputs": [
    {
     "name": "stdout",
     "output_type": "stream",
     "text": [
      "the+great+beauty+2013       53583\n",
      "the+best+of+youth+2003      53462\n",
      "the+civil+war+1990          53410\n",
      "modern+times+1936           53406\n",
      "simon+of+the+desert+1965    53367\n",
      "7+plus+seven+1970           53362\n",
      "the+intouchables+2011       53350\n",
      "john+adams+2008             53340\n",
      "the+cameraman+1928          53323\n",
      "rashomon+1950               53319\n",
      "Name: movie_id, dtype: int64\n"
     ]
    }
   ],
   "source": [
    "male_rec = male_users['movie_id'].value_counts().sort_values(ascending=False)[0:10]\n",
    "print(male_rec)"
   ]
  },
  {
   "cell_type": "markdown",
   "metadata": {},
   "source": [
    "## Top 10 movies recommended most to female user group"
   ]
  },
  {
   "cell_type": "code",
   "execution_count": 55,
   "metadata": {},
   "outputs": [
    {
     "name": "stdout",
     "output_type": "stream",
     "text": [
      "the+cameraman+1928                           11092\n",
      "the+400+blows+1959                           11055\n",
      "double+indemnity+1944                        11029\n",
      "the+third+man+1949                           11029\n",
      "head-on+2004                                 11019\n",
      "senna+2010                                   10975\n",
      "seven+chances+1925                           10970\n",
      "bill+hicks+revelations+1993                  10969\n",
      "the+revolution+will+not+be+televised+2003    10967\n",
      "the+secret+in+their+eyes+2009                10966\n",
      "Name: movie_id, dtype: int64\n"
     ]
    }
   ],
   "source": [
    "female_rec = female_users['movie_id'].value_counts().sort_values(ascending=False)[0:10]\n",
    "print(female_rec)"
   ]
  },
  {
   "cell_type": "markdown",
   "metadata": {},
   "source": [
    "## Intersection of movies recommended  most to female and male user group\n",
    "Oops, seems there is no overlap"
   ]
  },
  {
   "cell_type": "code",
   "execution_count": 58,
   "metadata": {},
   "outputs": [
    {
     "data": {
      "text/html": [
       "<div>\n",
       "<style scoped>\n",
       "    .dataframe tbody tr th:only-of-type {\n",
       "        vertical-align: middle;\n",
       "    }\n",
       "\n",
       "    .dataframe tbody tr th {\n",
       "        vertical-align: top;\n",
       "    }\n",
       "\n",
       "    .dataframe thead th {\n",
       "        text-align: right;\n",
       "    }\n",
       "</style>\n",
       "<table border=\"1\" class=\"dataframe\">\n",
       "  <thead>\n",
       "    <tr style=\"text-align: right;\">\n",
       "      <th></th>\n",
       "      <th>movie_id</th>\n",
       "    </tr>\n",
       "  </thead>\n",
       "  <tbody>\n",
       "  </tbody>\n",
       "</table>\n",
       "</div>"
      ],
      "text/plain": [
       "Empty DataFrame\n",
       "Columns: [movie_id]\n",
       "Index: []"
      ]
     },
     "execution_count": 58,
     "metadata": {},
     "output_type": "execute_result"
    }
   ],
   "source": [
    "male_rec_10 = male_rec[:10].to_frame()\n",
    "female_rec_10 = female_rec[:10].to_frame()\n",
    "female_rec_10.merge(male_rec_10, on='movie_id')"
   ]
  },
  {
   "cell_type": "markdown",
   "metadata": {},
   "source": [
    "## Top 10 movies recommended most to age-above-average user group"
   ]
  },
  {
   "cell_type": "code",
   "execution_count": 59,
   "metadata": {
    "scrolled": true
   },
   "outputs": [
    {
     "name": "stdout",
     "output_type": "stream",
     "text": [
      "the+third+man+1949                26542\n",
      "the+cameraman+1928                26510\n",
      "the+man+who+planted+trees+1987    26475\n",
      "children+of+paradise+1945         26451\n",
      "the+intouchables+2011             26431\n",
      "ordet+1955                        26424\n",
      "rashomon+1950                     26412\n",
      "the+lives+of+others+2006          26409\n",
      "the+civil+war+1990                26405\n",
      "to+have+and+have+not+1944         26390\n",
      "Name: movie_id, dtype: int64\n"
     ]
    }
   ],
   "source": [
    "aged_rec = aged_users['movie_id'].value_counts().sort_values(ascending=False)[0:10]\n",
    "print(aged_rec)"
   ]
  },
  {
   "cell_type": "markdown",
   "metadata": {},
   "source": [
    "## Top 10 movies recommended most to age-below-average user group"
   ]
  },
  {
   "cell_type": "code",
   "execution_count": 61,
   "metadata": {},
   "outputs": [
    {
     "name": "stdout",
     "output_type": "stream",
     "text": [
      "the+great+beauty+2013       38187\n",
      "john+adams+2008             38027\n",
      "simon+of+the+desert+1965    38013\n",
      "the+maltese+falcon+1941     37999\n",
      "the+best+of+youth+2003      37960\n",
      "head-on+2004                37956\n",
      "short+term+12+2013          37951\n",
      "double+indemnity+1944       37937\n",
      "the+act+of+killing+2012     37937\n",
      "the+civil+war+1990          37910\n",
      "Name: movie_id, dtype: int64\n"
     ]
    }
   ],
   "source": [
    "young_rec = young_user['movie_id'].value_counts().sort_values(ascending=False)[0:10]\n",
    "print(young_rec)"
   ]
  },
  {
   "cell_type": "markdown",
   "metadata": {},
   "source": [
    "## Intersection of movies recommended to different age group"
   ]
  },
  {
   "cell_type": "code",
   "execution_count": 63,
   "metadata": {},
   "outputs": [
    {
     "data": {
      "text/html": [
       "<div>\n",
       "<style scoped>\n",
       "    .dataframe tbody tr th:only-of-type {\n",
       "        vertical-align: middle;\n",
       "    }\n",
       "\n",
       "    .dataframe tbody tr th {\n",
       "        vertical-align: top;\n",
       "    }\n",
       "\n",
       "    .dataframe thead th {\n",
       "        text-align: right;\n",
       "    }\n",
       "</style>\n",
       "<table border=\"1\" class=\"dataframe\">\n",
       "  <thead>\n",
       "    <tr style=\"text-align: right;\">\n",
       "      <th></th>\n",
       "      <th>movie_id</th>\n",
       "    </tr>\n",
       "  </thead>\n",
       "  <tbody>\n",
       "  </tbody>\n",
       "</table>\n",
       "</div>"
      ],
      "text/plain": [
       "Empty DataFrame\n",
       "Columns: [movie_id]\n",
       "Index: []"
      ]
     },
     "execution_count": 63,
     "metadata": {},
     "output_type": "execute_result"
    }
   ],
   "source": [
    "aged_rec_10 = aged_rec[:10].to_frame()\n",
    "young_rec_10 = young_rec[:10].to_frame()\n",
    "aged_rec_10.merge(young_rec_10, on='movie_id')"
   ]
  },
  {
   "cell_type": "markdown",
   "metadata": {},
   "source": [
    "## Top 10 movie liked by male user group"
   ]
  },
  {
   "cell_type": "code",
   "execution_count": 43,
   "metadata": {},
   "outputs": [
    {
     "data": {
      "text/plain": [
       "movie_id\n",
       "the+seventh+seal+1957                                    0.071429\n",
       "searching+for+sugar+man+2012                             0.066667\n",
       "the+shawshank+redemption+1994                            0.055557\n",
       "monty+python+and+the+holy+grail+1975                     0.046117\n",
       "the+godfather+1972                                       0.044787\n",
       "the+usual+suspects+1995                                  0.042039\n",
       "star+wars+1977                                           0.041374\n",
       "the+lord+of+the+rings+the+fellowship+of+the+ring+2001    0.041186\n",
       "raiders+of+the+lost+ark+1981                             0.040765\n",
       "interstellar+2014                                        0.040000\n",
       "Name: rating, dtype: float64"
      ]
     },
     "execution_count": 43,
     "metadata": {},
     "output_type": "execute_result"
    }
   ],
   "source": [
    "male_temp=male_users.groupby('movie_id')['rating'].mean().sort_values(ascending=False)\n",
    "male_temp.head(10)"
   ]
  },
  {
   "cell_type": "markdown",
   "metadata": {},
   "source": [
    "## Top 10 movie liked by female user group"
   ]
  },
  {
   "cell_type": "code",
   "execution_count": 37,
   "metadata": {},
   "outputs": [
    {
     "data": {
      "text/plain": [
       "movie_id\n",
       "the+shawshank+redemption+1994                            0.052233\n",
       "the+usual+suspects+1995                                  0.040591\n",
       "schindlers+list+1993                                     0.040065\n",
       "a+man+escaped+1956                                       0.039252\n",
       "raiders+of+the+lost+ark+1981                             0.039136\n",
       "the+lives+of+others+2006                                 0.038849\n",
       "life+is+beautiful+1997                                   0.038447\n",
       "my+neighbor+totoro+1988                                  0.038266\n",
       "spirited+away+2001                                       0.038190\n",
       "ordet+1955                                               0.037936\n",
       "12+angry+men+1957                                        0.037703\n",
       "the+sting+1973                                           0.037328\n",
       "monty+python+and+the+holy+grail+1975                     0.037037\n",
       "the+godfather+1972                                       0.037004\n",
       "the+lord+of+the+rings+the+fellowship+of+the+ring+2001    0.036941\n",
       "simon+of+the+desert+1965                                 0.036781\n",
       "the+wrong+trousers+1993                                  0.036719\n",
       "the+princess+bride+1987                                  0.036663\n",
       "the+intouchables+2011                                    0.036643\n",
       "the+lord+of+the+rings+the+return+of+the+king+2003        0.036483\n",
       "Name: rating, dtype: float64"
      ]
     },
     "execution_count": 37,
     "metadata": {},
     "output_type": "execute_result"
    }
   ],
   "source": [
    "female_temp=female_users.groupby('movie_id')['rating'].mean().sort_values(ascending=False)\n",
    "female_temp.head(20)"
   ]
  },
  {
   "cell_type": "markdown",
   "metadata": {},
   "source": [
    "## Intersection of top popular 10 movies for female and male user group"
   ]
  },
  {
   "cell_type": "code",
   "execution_count": 45,
   "metadata": {},
   "outputs": [
    {
     "data": {
      "text/html": [
       "<div>\n",
       "<style scoped>\n",
       "    .dataframe tbody tr th:only-of-type {\n",
       "        vertical-align: middle;\n",
       "    }\n",
       "\n",
       "    .dataframe tbody tr th {\n",
       "        vertical-align: top;\n",
       "    }\n",
       "\n",
       "    .dataframe thead th {\n",
       "        text-align: right;\n",
       "    }\n",
       "</style>\n",
       "<table border=\"1\" class=\"dataframe\">\n",
       "  <thead>\n",
       "    <tr style=\"text-align: right;\">\n",
       "      <th></th>\n",
       "      <th>rating_x</th>\n",
       "      <th>rating_y</th>\n",
       "    </tr>\n",
       "    <tr>\n",
       "      <th>movie_id</th>\n",
       "      <th></th>\n",
       "      <th></th>\n",
       "    </tr>\n",
       "  </thead>\n",
       "  <tbody>\n",
       "    <tr>\n",
       "      <th>the+shawshank+redemption+1994</th>\n",
       "      <td>0.052233</td>\n",
       "      <td>0.055557</td>\n",
       "    </tr>\n",
       "    <tr>\n",
       "      <th>the+usual+suspects+1995</th>\n",
       "      <td>0.040591</td>\n",
       "      <td>0.042039</td>\n",
       "    </tr>\n",
       "    <tr>\n",
       "      <th>raiders+of+the+lost+ark+1981</th>\n",
       "      <td>0.039136</td>\n",
       "      <td>0.040765</td>\n",
       "    </tr>\n",
       "  </tbody>\n",
       "</table>\n",
       "</div>"
      ],
      "text/plain": [
       "                               rating_x  rating_y\n",
       "movie_id                                         \n",
       "the+shawshank+redemption+1994  0.052233  0.055557\n",
       "the+usual+suspects+1995        0.040591  0.042039\n",
       "raiders+of+the+lost+ark+1981   0.039136  0.040765"
      ]
     },
     "execution_count": 45,
     "metadata": {},
     "output_type": "execute_result"
    }
   ],
   "source": [
    "female_top_20 = female_temp[:10].to_frame()\n",
    "male_top_20 = male_temp[:10].to_frame()\n",
    "female_top_20.merge(male_top_20, on='movie_id')"
   ]
  },
  {
   "cell_type": "markdown",
   "metadata": {},
   "source": [
    "## Top 10 movies rated by user group above average age"
   ]
  },
  {
   "cell_type": "code",
   "execution_count": 48,
   "metadata": {},
   "outputs": [
    {
     "data": {
      "text/plain": [
       "movie_id\n",
       "the+seventh+seal+1957                                    0.111111\n",
       "monty+python+and+the+holy+grail+1975                     0.071066\n",
       "the+shawshank+redemption+1994                            0.056793\n",
       "the+godfather+1972                                       0.046058\n",
       "the+usual+suspects+1995                                  0.041484\n",
       "raiders+of+the+lost+ark+1981                             0.041305\n",
       "the+lord+of+the+rings+the+fellowship+of+the+ring+2001    0.040226\n",
       "schindlers+list+1993                                     0.039494\n",
       "star+wars+1977                                           0.039061\n",
       "inception+2010                                           0.038935\n",
       "Name: rating, dtype: float64"
      ]
     },
     "execution_count": 48,
     "metadata": {},
     "output_type": "execute_result"
    }
   ],
   "source": [
    "aged_temp=aged_users.groupby('movie_id')['rating'].mean().sort_values(ascending=False)\n",
    "aged_temp.head(10)"
   ]
  },
  {
   "cell_type": "markdown",
   "metadata": {},
   "source": [
    "## Top 10 movies rated by user group below average age"
   ]
  },
  {
   "cell_type": "code",
   "execution_count": 49,
   "metadata": {},
   "outputs": [
    {
     "data": {
      "text/plain": [
       "movie_id\n",
       "searching+for+sugar+man+2012                             0.090909\n",
       "interstellar+2014                                        0.062500\n",
       "the+shawshank+redemption+1994                            0.053752\n",
       "the+usual+suspects+1995                                  0.042003\n",
       "the+godfather+1972                                       0.041681\n",
       "star+wars+1977                                           0.040715\n",
       "the+lord+of+the+rings+the+fellowship+of+the+ring+2001    0.040614\n",
       "raiders+of+the+lost+ark+1981                             0.039922\n",
       "the+lord+of+the+rings+the+return+of+the+king+2003        0.039632\n",
       "the+matrix+1999                                          0.039101\n",
       "Name: rating, dtype: float64"
      ]
     },
     "execution_count": 49,
     "metadata": {},
     "output_type": "execute_result"
    }
   ],
   "source": [
    "young_temp=young_user.groupby('movie_id')['rating'].mean().sort_values(ascending=False)\n",
    "young_temp.head(10)"
   ]
  },
  {
   "cell_type": "code",
   "execution_count": 51,
   "metadata": {},
   "outputs": [
    {
     "data": {
      "text/html": [
       "<div>\n",
       "<style scoped>\n",
       "    .dataframe tbody tr th:only-of-type {\n",
       "        vertical-align: middle;\n",
       "    }\n",
       "\n",
       "    .dataframe tbody tr th {\n",
       "        vertical-align: top;\n",
       "    }\n",
       "\n",
       "    .dataframe thead th {\n",
       "        text-align: right;\n",
       "    }\n",
       "</style>\n",
       "<table border=\"1\" class=\"dataframe\">\n",
       "  <thead>\n",
       "    <tr style=\"text-align: right;\">\n",
       "      <th></th>\n",
       "      <th>rating_x</th>\n",
       "      <th>rating_y</th>\n",
       "    </tr>\n",
       "    <tr>\n",
       "      <th>movie_id</th>\n",
       "      <th></th>\n",
       "      <th></th>\n",
       "    </tr>\n",
       "  </thead>\n",
       "  <tbody>\n",
       "    <tr>\n",
       "      <th>the+shawshank+redemption+1994</th>\n",
       "      <td>0.053752</td>\n",
       "      <td>0.056793</td>\n",
       "    </tr>\n",
       "    <tr>\n",
       "      <th>the+usual+suspects+1995</th>\n",
       "      <td>0.042003</td>\n",
       "      <td>0.041484</td>\n",
       "    </tr>\n",
       "    <tr>\n",
       "      <th>the+godfather+1972</th>\n",
       "      <td>0.041681</td>\n",
       "      <td>0.046058</td>\n",
       "    </tr>\n",
       "    <tr>\n",
       "      <th>star+wars+1977</th>\n",
       "      <td>0.040715</td>\n",
       "      <td>0.039061</td>\n",
       "    </tr>\n",
       "    <tr>\n",
       "      <th>the+lord+of+the+rings+the+fellowship+of+the+ring+2001</th>\n",
       "      <td>0.040614</td>\n",
       "      <td>0.040226</td>\n",
       "    </tr>\n",
       "    <tr>\n",
       "      <th>raiders+of+the+lost+ark+1981</th>\n",
       "      <td>0.039922</td>\n",
       "      <td>0.041305</td>\n",
       "    </tr>\n",
       "  </tbody>\n",
       "</table>\n",
       "</div>"
      ],
      "text/plain": [
       "                                                    rating_x  rating_y\n",
       "movie_id                                                              \n",
       "the+shawshank+redemption+1994                       0.053752  0.056793\n",
       "the+usual+suspects+1995                             0.042003  0.041484\n",
       "the+godfather+1972                                  0.041681  0.046058\n",
       "star+wars+1977                                      0.040715  0.039061\n",
       "the+lord+of+the+rings+the+fellowship+of+the+rin...  0.040614  0.040226\n",
       "raiders+of+the+lost+ark+1981                        0.039922  0.041305"
      ]
     },
     "execution_count": 51,
     "metadata": {},
     "output_type": "execute_result"
    }
   ],
   "source": [
    "elder_top_10 = aged_temp[:10].to_frame()\n",
    "young_top_10 = young_temp[:10].to_frame()\n",
    "young_top_10.merge(elder_top_10, on='movie_id')"
   ]
  },
  {
   "cell_type": "markdown",
   "metadata": {},
   "source": [
    "## STEP THREE - Test fairness in false discovery rate and precision"
   ]
  },
  {
   "cell_type": "code",
   "execution_count": 24,
   "metadata": {},
   "outputs": [],
   "source": [
    "def cal_false_discovery(true_pos,false_pos):\n",
    "    return(false_pos/(false_pos+true_pos))\n",
    "\n",
    "def cal_precision(true_pos,false_pos):\n",
    "    return(true_pos/(false_pos+true_pos))"
   ]
  },
  {
   "cell_type": "code",
   "execution_count": 25,
   "metadata": {},
   "outputs": [],
   "source": [
    "male_tp = male_users[male_users['rating'] == 1].shape[0]\n",
    "male_fp = male_users[male_users['rating'] == -1].shape[0]\n",
    "# Make calculations \n",
    "false_discovery_rate_male=cal_false_discovery(male_tp,male_fp)\n",
    "precision_male=cal_precision(male_tp,male_fp)"
   ]
  },
  {
   "cell_type": "code",
   "execution_count": 26,
   "metadata": {},
   "outputs": [],
   "source": [
    "female_tp = female_users[female_users['rating'] == 1].shape[0]\n",
    "female_fp = female_users[female_users['rating'] == -1].shape[0]\n",
    "# Make calculations \n",
    "false_discovery_rate_female=cal_false_discovery(female_tp,female_fp)\n",
    "precision_female=cal_precision(female_tp,female_fp)"
   ]
  },
  {
   "cell_type": "code",
   "execution_count": 27,
   "metadata": {},
   "outputs": [],
   "source": [
    "aged_tp = aged_users[aged_users['rating'] == 1].shape[0]\n",
    "aged_fp = aged_users[aged_users['rating'] == -1].shape[0]\n",
    "# Make calculations \n",
    "aged_discovery_rate=cal_false_discovery(aged_tp,aged_fp)\n",
    "precision_aged=cal_precision(aged_tp,aged_fp)"
   ]
  },
  {
   "cell_type": "code",
   "execution_count": 28,
   "metadata": {},
   "outputs": [],
   "source": [
    "young_tp = young_user[young_user['rating'] == 1].shape[0]\n",
    "young_fp = young_user[young_user['rating'] == -1].shape[0]\n",
    "# Make calculations \n",
    "young_discovery_rate=cal_false_discovery(young_tp,young_fp)\n",
    "precision_young=cal_precision(young_tp,young_fp)"
   ]
  },
  {
   "cell_type": "code",
   "execution_count": 29,
   "metadata": {},
   "outputs": [
    {
     "name": "stdout",
     "output_type": "stream",
     "text": [
      "Male = False Disvovery Rate: 0.006380574309640404 Precision 0.9936194256903595\n",
      "Female = False Disvovery Rate: 0.005620050523686526 Precision 0.9943799494763135\n",
      "Aged = False Disvovery Rate: 0.006382605646151149 Precision 0.9936173943538489\n",
      "Young = False Disvovery Rate: 0.0061599626966402435 Precision 0.9938400373033598\n"
     ]
    }
   ],
   "source": [
    "print(f'Male = False Disvovery Rate: {false_discovery_rate_male} Precision {precision_male}')\n",
    "print(f'Female = False Disvovery Rate: {false_discovery_rate_female} Precision {precision_female}')\n",
    "print(f'Aged = False Disvovery Rate: {aged_discovery_rate} Precision {precision_aged}')\n",
    "print(f'Young = False Disvovery Rate: {young_discovery_rate} Precision {precision_young}')"
   ]
  },
  {
   "cell_type": "code",
   "execution_count": null,
   "metadata": {},
   "outputs": [],
   "source": []
  }
 ],
 "metadata": {
  "kernelspec": {
   "display_name": "Python 3",
   "language": "python",
   "name": "python3"
  },
  "language_info": {
   "codemirror_mode": {
    "name": "ipython",
    "version": 3
   },
   "file_extension": ".py",
   "mimetype": "text/x-python",
   "name": "python",
   "nbconvert_exporter": "python",
   "pygments_lexer": "ipython3",
   "version": "3.6.9"
  }
 },
 "nbformat": 4,
 "nbformat_minor": 4
}
