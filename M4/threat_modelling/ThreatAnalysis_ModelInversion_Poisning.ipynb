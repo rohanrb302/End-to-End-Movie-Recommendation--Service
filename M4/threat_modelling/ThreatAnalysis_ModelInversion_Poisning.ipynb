{
 "cells": [
  {
   "cell_type": "code",
   "execution_count": 1,
   "metadata": {},
   "outputs": [],
   "source": [
    "import csv\n",
    "import pandas as pd"
   ]
  },
  {
   "cell_type": "code",
   "execution_count": 2,
   "metadata": {},
   "outputs": [],
   "source": [
    "df = pd.read_csv(\"M1.csv\")"
   ]
  },
  {
   "cell_type": "code",
   "execution_count": 3,
   "metadata": {},
   "outputs": [
    {
     "name": "stdout",
     "output_type": "stream",
     "text": [
      "<class 'pandas.core.frame.DataFrame'>\n",
      "RangeIndex: 2475581 entries, 0 to 2475580\n",
      "Data columns (total 3 columns):\n",
      " #   Column                Dtype \n",
      "---  ------                ----- \n",
      " 0   11880                 int64 \n",
      " 1   cinema+paradiso+1988  object\n",
      " 2   5                     int64 \n",
      "dtypes: int64(2), object(1)\n",
      "memory usage: 56.7+ MB\n"
     ]
    }
   ],
   "source": [
    "df.info()"
   ]
  },
  {
   "cell_type": "code",
   "execution_count": 4,
   "metadata": {},
   "outputs": [],
   "source": [
    "df.columns=['userid','movieid','rating']"
   ]
  },
  {
   "cell_type": "code",
   "execution_count": 5,
   "metadata": {},
   "outputs": [
    {
     "name": "stdout",
     "output_type": "stream",
     "text": [
      "<class 'pandas.core.frame.DataFrame'>\n",
      "RangeIndex: 2475581 entries, 0 to 2475580\n",
      "Data columns (total 3 columns):\n",
      " #   Column   Dtype \n",
      "---  ------   ----- \n",
      " 0   userid   int64 \n",
      " 1   movieid  object\n",
      " 2   rating   int64 \n",
      "dtypes: int64(2), object(1)\n",
      "memory usage: 56.7+ MB\n"
     ]
    }
   ],
   "source": [
    "df.info()"
   ]
  },
  {
   "cell_type": "code",
   "execution_count": 6,
   "metadata": {},
   "outputs": [
    {
     "data": {
      "text/html": [
       "<div>\n",
       "<style scoped>\n",
       "    .dataframe tbody tr th:only-of-type {\n",
       "        vertical-align: middle;\n",
       "    }\n",
       "\n",
       "    .dataframe tbody tr th {\n",
       "        vertical-align: top;\n",
       "    }\n",
       "\n",
       "    .dataframe thead th {\n",
       "        text-align: right;\n",
       "    }\n",
       "</style>\n",
       "<table border=\"1\" class=\"dataframe\">\n",
       "  <thead>\n",
       "    <tr style=\"text-align: right;\">\n",
       "      <th></th>\n",
       "      <th>userid</th>\n",
       "      <th>movieid</th>\n",
       "      <th>rating</th>\n",
       "    </tr>\n",
       "  </thead>\n",
       "  <tbody>\n",
       "    <tr>\n",
       "      <th>0</th>\n",
       "      <td>143289</td>\n",
       "      <td>forces+of+nature+1999</td>\n",
       "      <td>5</td>\n",
       "    </tr>\n",
       "    <tr>\n",
       "      <th>1</th>\n",
       "      <td>131839</td>\n",
       "      <td>speed+1994</td>\n",
       "      <td>3</td>\n",
       "    </tr>\n",
       "    <tr>\n",
       "      <th>2</th>\n",
       "      <td>83318</td>\n",
       "      <td>love++basketball+2000</td>\n",
       "      <td>4</td>\n",
       "    </tr>\n",
       "    <tr>\n",
       "      <th>3</th>\n",
       "      <td>30046</td>\n",
       "      <td>saving+private+ryan+1998</td>\n",
       "      <td>5</td>\n",
       "    </tr>\n",
       "    <tr>\n",
       "      <th>4</th>\n",
       "      <td>62982</td>\n",
       "      <td>l.a.+confidential+1997</td>\n",
       "      <td>5</td>\n",
       "    </tr>\n",
       "  </tbody>\n",
       "</table>\n",
       "</div>"
      ],
      "text/plain": [
       "   userid                   movieid  rating\n",
       "0  143289     forces+of+nature+1999       5\n",
       "1  131839                speed+1994       3\n",
       "2   83318     love++basketball+2000       4\n",
       "3   30046  saving+private+ryan+1998       5\n",
       "4   62982    l.a.+confidential+1997       5"
      ]
     },
     "execution_count": 6,
     "metadata": {},
     "output_type": "execute_result"
    }
   ],
   "source": [
    "df.head()"
   ]
  },
  {
   "cell_type": "raw",
   "metadata": {},
   "source": [
    "df_temp = df.groupby('movieid')['movieid'].nunique()"
   ]
  },
  {
   "cell_type": "code",
   "execution_count": 26,
   "metadata": {},
   "outputs": [],
   "source": [
    "df_temp=df.groupby('movieid')['userid'].nunique()"
   ]
  },
  {
   "cell_type": "code",
   "execution_count": 34,
   "metadata": {},
   "outputs": [
    {
     "data": {
      "text/plain": [
       "the+shawshank+redemption+1994                            14790\n",
       "pulp+fiction+1994                                        12658\n",
       "forrest+gump+1994                                        12296\n",
       "star+wars+1977                                           10431\n",
       "the+silence+of+the+lambs+1991                             9695\n",
       "apollo+13+1995                                            8864\n",
       "jurassic+park+1993                                        8709\n",
       "toy+story+1995                                            8602\n",
       "the+matrix+1999                                           8333\n",
       "terminator+2+judgment+day+1991                            8314\n",
       "dances+with+wolves+1990                                   8269\n",
       "braveheart+1995                                           7961\n",
       "the+fugitive+1993                                         7773\n",
       "aladdin+1992                                              7755\n",
       "the+godfather+1972                                        7730\n",
       "batman+1989                                               7624\n",
       "the+lord+of+the+rings+the+fellowship+of+the+ring+2001     7522\n",
       "schindlers+list+1993                                      7514\n",
       "true+lies+1994                                            7409\n",
       "fight+club+1999                                           7317\n",
       "independence+day+1996                                     7263\n",
       "se7en+1995                                                7232\n",
       "raiders+of+the+lost+ark+1981                              7191\n",
       "the+usual+suspects+1995                                   6639\n",
       "twelve+monkeys+1995                                       6589\n",
       "beauty+and+the+beast+1991                                 6465\n",
       "the+lion+king+1994                                        6310\n",
       "the+lord+of+the+rings+the+two+towers+2002                 6136\n",
       "ace+ventura+pet+detective+1994                            6027\n",
       "return+of+the+jedi+1983                                   5975\n",
       "fargo+1996                                                5918\n",
       "inception+2010                                            5818\n",
       "american+beauty+1999                                      5737\n",
       "the+lord+of+the+rings+the+return+of+the+king+2003         5678\n",
       "saving+private+ryan+1998                                  5608\n",
       "die+hard+with+a+vengeance+1995                            5598\n",
       "batman+forever+1995                                       5486\n",
       "the+dark+knight+2008                                      5346\n",
       "back+to+the+future+1985                                   5297\n",
       "mission+impossible+1996                                   5245\n",
       "clear+and+present+danger+1994                             5237\n",
       "speed+1994                                                5231\n",
       "dumb+and+dumber+1994                                      5102\n",
       "stargate+1994                                             5036\n",
       "one+flew+over+the+cuckoos+nest+1975                       4979\n",
       "the+empire+strikes+back+1980                              4946\n",
       "monty+python+and+the+holy+grail+1975                      4882\n",
       "twister+1996                                              4819\n",
       "star+trek+generations+1994                                4635\n",
       "gladiator+2000                                            4573\n",
       "Name: movieid, dtype: int64"
      ]
     },
     "execution_count": 34,
     "metadata": {},
     "output_type": "execute_result"
    }
   ],
   "source": [
    "(df.movieid.value_counts().sort_values(ascending=False)[0:50])"
   ]
  },
  {
   "cell_type": "code",
   "execution_count": 66,
   "metadata": {},
   "outputs": [],
   "source": [
    "uniques_users = df.groupby(\"movieid\")[\"userid\"].nunique()"
   ]
  },
  {
   "cell_type": "code",
   "execution_count": 67,
   "metadata": {},
   "outputs": [
    {
     "data": {
      "text/plain": [
       "movieid\n",
       " desperado+1995                    1\n",
       " the+shawshank+redemption+1994     1\n",
       "++++++1959                        15\n",
       "++++2013                          13\n",
       "+la+mode+1993                      5\n",
       "Name: userid, dtype: int64"
      ]
     },
     "execution_count": 67,
     "metadata": {},
     "output_type": "execute_result"
    }
   ],
   "source": [
    "uniques_users.head()"
   ]
  },
  {
   "source": [
    "## Find the users with the most enteries.\n",
    "An adversary will take make more enteries to poison and shift the decision doundries"
   ],
   "cell_type": "markdown",
   "metadata": {}
  },
  {
   "cell_type": "code",
   "execution_count": 91,
   "metadata": {},
   "outputs": [
    {
     "data": {
      "text/plain": [
       "Int64Index([ 54227, 143268,    970,  79617, 138185, 126043,  72127,  87939,\n",
       "            142646,  13892,  17483,  58704,  14307, 128819,  95606, 104995,\n",
       "             83035, 105665,  46238, 149366, 125705,  73073,  59473,  55169,\n",
       "             82542, 163570,  98106,  14540, 107861,  35403,   7101,  22144,\n",
       "            122151, 160736,  54472, 157066,  79363,  58586, 125064,  69274,\n",
       "             83712,  83075, 107318, 128768, 124529,  61536, 107293,  77441,\n",
       "            112055,  20881],\n",
       "           dtype='int64')"
      ]
     },
     "execution_count": 91,
     "metadata": {},
     "output_type": "execute_result"
    }
   ],
   "source": [
    "(df.userid.value_counts()[0:50].keys())\n"
   ]
  },
  {
   "cell_type": "code",
   "execution_count": 92,
   "metadata": {},
   "outputs": [],
   "source": [
    "list_of_users=[54227,143268,970,79617,138185,126043,72127,72127,87939,142646,13892,149366,19565]\n",
    "list_of_users=df.userid.value_counts()[0:50].keys().tolist()"
   ]
  },
  {
   "cell_type": "code",
   "execution_count": 58,
   "metadata": {},
   "outputs": [],
   "source": [
    "temp=df.index[df['userid']==list_of_users[0]]"
   ]
  },
  {
   "cell_type": "code",
   "execution_count": 93,
   "metadata": {},
   "outputs": [],
   "source": [
    "mask = df['userid'].isin(list_of_users)"
   ]
  },
  {
   "cell_type": "code",
   "execution_count": 94,
   "metadata": {},
   "outputs": [],
   "source": [
    "temp_df= df.loc[mask]"
   ]
  },
  {
   "cell_type": "code",
   "execution_count": 95,
   "metadata": {},
   "outputs": [
    {
     "data": {
      "text/html": [
       "<div>\n",
       "<style scoped>\n",
       "    .dataframe tbody tr th:only-of-type {\n",
       "        vertical-align: middle;\n",
       "    }\n",
       "\n",
       "    .dataframe tbody tr th {\n",
       "        vertical-align: top;\n",
       "    }\n",
       "\n",
       "    .dataframe thead th {\n",
       "        text-align: right;\n",
       "    }\n",
       "</style>\n",
       "<table border=\"1\" class=\"dataframe\">\n",
       "  <thead>\n",
       "    <tr style=\"text-align: right;\">\n",
       "      <th></th>\n",
       "      <th>userid</th>\n",
       "      <th>movieid</th>\n",
       "      <th>rating</th>\n",
       "    </tr>\n",
       "  </thead>\n",
       "  <tbody>\n",
       "    <tr>\n",
       "      <th>102310</th>\n",
       "      <td>14540</td>\n",
       "      <td>x2+2003</td>\n",
       "      <td>4</td>\n",
       "    </tr>\n",
       "    <tr>\n",
       "      <th>102464</th>\n",
       "      <td>14540</td>\n",
       "      <td>la+femme+nikita+1990</td>\n",
       "      <td>4</td>\n",
       "    </tr>\n",
       "    <tr>\n",
       "      <th>102474</th>\n",
       "      <td>14540</td>\n",
       "      <td>12+angry+men+1957</td>\n",
       "      <td>5</td>\n",
       "    </tr>\n",
       "    <tr>\n",
       "      <th>102485</th>\n",
       "      <td>14540</td>\n",
       "      <td>delicatessen+1991</td>\n",
       "      <td>5</td>\n",
       "    </tr>\n",
       "    <tr>\n",
       "      <th>102512</th>\n",
       "      <td>14540</td>\n",
       "      <td>casino+royale+2006</td>\n",
       "      <td>3</td>\n",
       "    </tr>\n",
       "    <tr>\n",
       "      <th>...</th>\n",
       "      <td>...</td>\n",
       "      <td>...</td>\n",
       "      <td>...</td>\n",
       "    </tr>\n",
       "    <tr>\n",
       "      <th>2467937</th>\n",
       "      <td>143268</td>\n",
       "      <td>monty+python+and+the+holy+grail+1975</td>\n",
       "      <td>5</td>\n",
       "    </tr>\n",
       "    <tr>\n",
       "      <th>2470299</th>\n",
       "      <td>14540</td>\n",
       "      <td>harry+potter+and+the+deathly+hallows+part+2+2011</td>\n",
       "      <td>5</td>\n",
       "    </tr>\n",
       "    <tr>\n",
       "      <th>2472140</th>\n",
       "      <td>14540</td>\n",
       "      <td>set+it+off+1996</td>\n",
       "      <td>4</td>\n",
       "    </tr>\n",
       "    <tr>\n",
       "      <th>2472866</th>\n",
       "      <td>58586</td>\n",
       "      <td>the+long+good+friday+1980</td>\n",
       "      <td>5</td>\n",
       "    </tr>\n",
       "    <tr>\n",
       "      <th>2475377</th>\n",
       "      <td>14540</td>\n",
       "      <td>dial+m+for+murder+1954</td>\n",
       "      <td>5</td>\n",
       "    </tr>\n",
       "  </tbody>\n",
       "</table>\n",
       "<p>1573 rows × 3 columns</p>\n",
       "</div>"
      ],
      "text/plain": [
       "         userid                                           movieid  rating\n",
       "102310    14540                                           x2+2003       4\n",
       "102464    14540                              la+femme+nikita+1990       4\n",
       "102474    14540                                 12+angry+men+1957       5\n",
       "102485    14540                                 delicatessen+1991       5\n",
       "102512    14540                                casino+royale+2006       3\n",
       "...         ...                                               ...     ...\n",
       "2467937  143268              monty+python+and+the+holy+grail+1975       5\n",
       "2470299   14540  harry+potter+and+the+deathly+hallows+part+2+2011       5\n",
       "2472140   14540                                   set+it+off+1996       4\n",
       "2472866   58586                         the+long+good+friday+1980       5\n",
       "2475377   14540                            dial+m+for+murder+1954       5\n",
       "\n",
       "[1573 rows x 3 columns]"
      ]
     },
     "execution_count": 95,
     "metadata": {},
     "output_type": "execute_result"
    }
   ],
   "source": [
    "temp_df"
   ]
  },
  {
   "cell_type": "code",
   "execution_count": 96,
   "metadata": {},
   "outputs": [
    {
     "data": {
      "text/html": [
       "<div>\n",
       "<style scoped>\n",
       "    .dataframe tbody tr th:only-of-type {\n",
       "        vertical-align: middle;\n",
       "    }\n",
       "\n",
       "    .dataframe tbody tr th {\n",
       "        vertical-align: top;\n",
       "    }\n",
       "\n",
       "    .dataframe thead th {\n",
       "        text-align: right;\n",
       "    }\n",
       "</style>\n",
       "<table border=\"1\" class=\"dataframe\">\n",
       "  <thead>\n",
       "    <tr style=\"text-align: right;\">\n",
       "      <th></th>\n",
       "      <th>user_id</th>\n",
       "      <th>age</th>\n",
       "      <th>occupation</th>\n",
       "      <th>gender</th>\n",
       "    </tr>\n",
       "  </thead>\n",
       "  <tbody>\n",
       "    <tr>\n",
       "      <th>1</th>\n",
       "      <td>233958</td>\n",
       "      <td>29</td>\n",
       "      <td>retired</td>\n",
       "      <td>F</td>\n",
       "    </tr>\n",
       "    <tr>\n",
       "      <th>3</th>\n",
       "      <td>19565</td>\n",
       "      <td>26</td>\n",
       "      <td>scientist</td>\n",
       "      <td>F</td>\n",
       "    </tr>\n",
       "    <tr>\n",
       "      <th>8</th>\n",
       "      <td>45445</td>\n",
       "      <td>30</td>\n",
       "      <td>executive/managerial</td>\n",
       "      <td>F</td>\n",
       "    </tr>\n",
       "    <tr>\n",
       "      <th>10</th>\n",
       "      <td>515073</td>\n",
       "      <td>72</td>\n",
       "      <td>scientist</td>\n",
       "      <td>F</td>\n",
       "    </tr>\n",
       "    <tr>\n",
       "      <th>36</th>\n",
       "      <td>297441</td>\n",
       "      <td>33</td>\n",
       "      <td>self-employed</td>\n",
       "      <td>F</td>\n",
       "    </tr>\n",
       "    <tr>\n",
       "      <th>...</th>\n",
       "      <td>...</td>\n",
       "      <td>...</td>\n",
       "      <td>...</td>\n",
       "      <td>...</td>\n",
       "    </tr>\n",
       "    <tr>\n",
       "      <th>572982</th>\n",
       "      <td>264174</td>\n",
       "      <td>31</td>\n",
       "      <td>executive/managerial</td>\n",
       "      <td>F</td>\n",
       "    </tr>\n",
       "    <tr>\n",
       "      <th>572983</th>\n",
       "      <td>537110</td>\n",
       "      <td>23</td>\n",
       "      <td>sales/marketing</td>\n",
       "      <td>F</td>\n",
       "    </tr>\n",
       "    <tr>\n",
       "      <th>572994</th>\n",
       "      <td>500470</td>\n",
       "      <td>29</td>\n",
       "      <td>executive/managerial</td>\n",
       "      <td>F</td>\n",
       "    </tr>\n",
       "    <tr>\n",
       "      <th>572995</th>\n",
       "      <td>307261</td>\n",
       "      <td>30</td>\n",
       "      <td>self-employed</td>\n",
       "      <td>F</td>\n",
       "    </tr>\n",
       "    <tr>\n",
       "      <th>572996</th>\n",
       "      <td>390437</td>\n",
       "      <td>60</td>\n",
       "      <td>retired</td>\n",
       "      <td>F</td>\n",
       "    </tr>\n",
       "  </tbody>\n",
       "</table>\n",
       "<p>97292 rows × 4 columns</p>\n",
       "</div>"
      ],
      "text/plain": [
       "        user_id  age            occupation gender\n",
       "1        233958   29               retired      F\n",
       "3         19565   26             scientist      F\n",
       "8         45445   30  executive/managerial      F\n",
       "10       515073   72             scientist      F\n",
       "36       297441   33         self-employed      F\n",
       "...         ...  ...                   ...    ...\n",
       "572982   264174   31  executive/managerial      F\n",
       "572983   537110   23       sales/marketing      F\n",
       "572994   500470   29  executive/managerial      F\n",
       "572995   307261   30         self-employed      F\n",
       "572996   390437   60               retired      F\n",
       "\n",
       "[97292 rows x 4 columns]"
      ]
     },
     "execution_count": 96,
     "metadata": {},
     "output_type": "execute_result"
    }
   ],
   "source": [
    "user_df = pd.read_csv(\"users.csv\")\n",
    "test = user_df[user_df['gender']=='F']\n",
    "test"
   ]
  },
  {
   "cell_type": "code",
   "execution_count": 97,
   "metadata": {},
   "outputs": [],
   "source": [
    "mask_new = user_df['user_id'].isin(list_of_users)\n",
    "user_filtered = user_df.loc[mask_new]"
   ]
  },
  {
   "cell_type": "code",
   "execution_count": 98,
   "metadata": {},
   "outputs": [],
   "source": [
    "user_filtered_cols =['userid','age','occupation','gender']\n",
    "user_filtered.columns=user_filtered_cols"
   ]
  },
  {
   "cell_type": "code",
   "execution_count": 56,
   "metadata": {},
   "outputs": [
    {
     "data": {
      "text/html": [
       "<div>\n",
       "<style scoped>\n",
       "    .dataframe tbody tr th:only-of-type {\n",
       "        vertical-align: middle;\n",
       "    }\n",
       "\n",
       "    .dataframe tbody tr th {\n",
       "        vertical-align: top;\n",
       "    }\n",
       "\n",
       "    .dataframe thead th {\n",
       "        text-align: right;\n",
       "    }\n",
       "</style>\n",
       "<table border=\"1\" class=\"dataframe\">\n",
       "  <thead>\n",
       "    <tr style=\"text-align: right;\">\n",
       "      <th></th>\n",
       "      <th>user_id</th>\n",
       "      <th>age</th>\n",
       "      <th>occupation</th>\n",
       "      <th>gender</th>\n",
       "    </tr>\n",
       "  </thead>\n",
       "  <tbody>\n",
       "    <tr>\n",
       "      <th>1</th>\n",
       "      <td>233958</td>\n",
       "      <td>29</td>\n",
       "      <td>retired</td>\n",
       "      <td>F</td>\n",
       "    </tr>\n",
       "    <tr>\n",
       "      <th>3</th>\n",
       "      <td>19565</td>\n",
       "      <td>26</td>\n",
       "      <td>scientist</td>\n",
       "      <td>F</td>\n",
       "    </tr>\n",
       "    <tr>\n",
       "      <th>8</th>\n",
       "      <td>45445</td>\n",
       "      <td>30</td>\n",
       "      <td>executive/managerial</td>\n",
       "      <td>F</td>\n",
       "    </tr>\n",
       "    <tr>\n",
       "      <th>10</th>\n",
       "      <td>515073</td>\n",
       "      <td>72</td>\n",
       "      <td>scientist</td>\n",
       "      <td>F</td>\n",
       "    </tr>\n",
       "    <tr>\n",
       "      <th>36</th>\n",
       "      <td>297441</td>\n",
       "      <td>33</td>\n",
       "      <td>self-employed</td>\n",
       "      <td>F</td>\n",
       "    </tr>\n",
       "    <tr>\n",
       "      <th>...</th>\n",
       "      <td>...</td>\n",
       "      <td>...</td>\n",
       "      <td>...</td>\n",
       "      <td>...</td>\n",
       "    </tr>\n",
       "    <tr>\n",
       "      <th>572982</th>\n",
       "      <td>264174</td>\n",
       "      <td>31</td>\n",
       "      <td>executive/managerial</td>\n",
       "      <td>F</td>\n",
       "    </tr>\n",
       "    <tr>\n",
       "      <th>572983</th>\n",
       "      <td>537110</td>\n",
       "      <td>23</td>\n",
       "      <td>sales/marketing</td>\n",
       "      <td>F</td>\n",
       "    </tr>\n",
       "    <tr>\n",
       "      <th>572994</th>\n",
       "      <td>500470</td>\n",
       "      <td>29</td>\n",
       "      <td>executive/managerial</td>\n",
       "      <td>F</td>\n",
       "    </tr>\n",
       "    <tr>\n",
       "      <th>572995</th>\n",
       "      <td>307261</td>\n",
       "      <td>30</td>\n",
       "      <td>self-employed</td>\n",
       "      <td>F</td>\n",
       "    </tr>\n",
       "    <tr>\n",
       "      <th>572996</th>\n",
       "      <td>390437</td>\n",
       "      <td>60</td>\n",
       "      <td>retired</td>\n",
       "      <td>F</td>\n",
       "    </tr>\n",
       "  </tbody>\n",
       "</table>\n",
       "<p>97292 rows × 4 columns</p>\n",
       "</div>"
      ],
      "text/plain": [
       "        user_id  age            occupation gender\n",
       "1        233958   29               retired      F\n",
       "3         19565   26             scientist      F\n",
       "8         45445   30  executive/managerial      F\n",
       "10       515073   72             scientist      F\n",
       "36       297441   33         self-employed      F\n",
       "...         ...  ...                   ...    ...\n",
       "572982   264174   31  executive/managerial      F\n",
       "572983   537110   23       sales/marketing      F\n",
       "572994   500470   29  executive/managerial      F\n",
       "572995   307261   30         self-employed      F\n",
       "572996   390437   60               retired      F\n",
       "\n",
       "[97292 rows x 4 columns]"
      ]
     },
     "execution_count": 56,
     "metadata": {},
     "output_type": "execute_result"
    }
   ],
   "source": [
    "test = user_df[user_df['gender']=='F']\n",
    "test"
   ]
  },
  {
   "cell_type": "code",
   "execution_count": 28,
   "metadata": {},
   "outputs": [],
   "source": [
    "check_user = temp_df.loc[temp_df['userid']==54227]"
   ]
  },
  {
   "cell_type": "code",
   "execution_count": 99,
   "metadata": {},
   "outputs": [],
   "source": [
    "from pandas.plotting import radviz"
   ]
  },
  {
   "cell_type": "code",
   "execution_count": 100,
   "metadata": {},
   "outputs": [],
   "source": [
    "merge_df = pd.merge(user_filtered,temp_df,on=[\"userid\"])"
   ]
  },
  {
   "source": [
    "## Visualise the distribution of data for ratings(our key feature)[Poisoning Attacks]"
   ],
   "cell_type": "markdown",
   "metadata": {}
  },
  {
   "cell_type": "code",
   "execution_count": 101,
   "metadata": {},
   "outputs": [
    {
     "data": {
      "text/plain": [
       "<matplotlib.axes._subplots.AxesSubplot at 0x7f88a7ba0650>"
      ]
     },
     "execution_count": 101,
     "metadata": {},
     "output_type": "execute_result"
    },
    {
     "data": {
      "image/png": "[encoded data removed]",
      "text/plain": [
       "<Figure size 432x288 with 1 Axes>"
      ]
     },
     "metadata": {
      "needs_background": "light"
     },
     "output_type": "display_data"
    }
   ],
   "source": [
    "merge_df.plot.scatter(x='userid',y='rating')"
   ]
  },
  {
   "cell_type": "code",
   "execution_count": 102,
   "metadata": {},
   "outputs": [
    {
     "data": {
      "text/html": [
       "<div>\n",
       "<style scoped>\n",
       "    .dataframe tbody tr th:only-of-type {\n",
       "        vertical-align: middle;\n",
       "    }\n",
       "\n",
       "    .dataframe tbody tr th {\n",
       "        vertical-align: top;\n",
       "    }\n",
       "\n",
       "    .dataframe thead th {\n",
       "        text-align: right;\n",
       "    }\n",
       "</style>\n",
       "<table border=\"1\" class=\"dataframe\">\n",
       "  <thead>\n",
       "    <tr style=\"text-align: right;\">\n",
       "      <th></th>\n",
       "      <th>userid</th>\n",
       "      <th>age</th>\n",
       "      <th>occupation</th>\n",
       "      <th>gender</th>\n",
       "      <th>movieid</th>\n",
       "      <th>rating</th>\n",
       "    </tr>\n",
       "  </thead>\n",
       "  <tbody>\n",
       "    <tr>\n",
       "      <th>0</th>\n",
       "      <td>58586</td>\n",
       "      <td>34</td>\n",
       "      <td>executive/managerial</td>\n",
       "      <td>M</td>\n",
       "      <td>the+firm+1993</td>\n",
       "      <td>4</td>\n",
       "    </tr>\n",
       "    <tr>\n",
       "      <th>1</th>\n",
       "      <td>58586</td>\n",
       "      <td>34</td>\n",
       "      <td>executive/managerial</td>\n",
       "      <td>M</td>\n",
       "      <td>whats+eating+gilbert+grape+1993</td>\n",
       "      <td>4</td>\n",
       "    </tr>\n",
       "    <tr>\n",
       "      <th>2</th>\n",
       "      <td>58586</td>\n",
       "      <td>34</td>\n",
       "      <td>executive/managerial</td>\n",
       "      <td>M</td>\n",
       "      <td>city+slickers+ii+the+legend+of+curlys+gold+1994</td>\n",
       "      <td>3</td>\n",
       "    </tr>\n",
       "    <tr>\n",
       "      <th>3</th>\n",
       "      <td>58586</td>\n",
       "      <td>34</td>\n",
       "      <td>executive/managerial</td>\n",
       "      <td>M</td>\n",
       "      <td>aladdin+1992</td>\n",
       "      <td>4</td>\n",
       "    </tr>\n",
       "    <tr>\n",
       "      <th>4</th>\n",
       "      <td>58586</td>\n",
       "      <td>34</td>\n",
       "      <td>executive/managerial</td>\n",
       "      <td>M</td>\n",
       "      <td>tombstone+1993</td>\n",
       "      <td>5</td>\n",
       "    </tr>\n",
       "  </tbody>\n",
       "</table>\n",
       "</div>"
      ],
      "text/plain": [
       "   userid  age            occupation gender  \\\n",
       "0   58586   34  executive/managerial      M   \n",
       "1   58586   34  executive/managerial      M   \n",
       "2   58586   34  executive/managerial      M   \n",
       "3   58586   34  executive/managerial      M   \n",
       "4   58586   34  executive/managerial      M   \n",
       "\n",
       "                                           movieid  rating  \n",
       "0                                    the+firm+1993       4  \n",
       "1                  whats+eating+gilbert+grape+1993       4  \n",
       "2  city+slickers+ii+the+legend+of+curlys+gold+1994       3  \n",
       "3                                     aladdin+1992       4  \n",
       "4                                   tombstone+1993       5  "
      ]
     },
     "execution_count": 102,
     "metadata": {},
     "output_type": "execute_result"
    }
   ],
   "source": [
    "merge_df.head()"
   ]
  },
  {
   "cell_type": "code",
   "execution_count": 103,
   "metadata": {},
   "outputs": [],
   "source": [
    "merged_male = merge_df.loc[merge_df['gender']=='M']"
   ]
  },
  {
   "cell_type": "code",
   "execution_count": 104,
   "metadata": {},
   "outputs": [],
   "source": [
    "merged_female = merge_df.loc[merge_df['gender']=='F']"
   ]
  },
  {
   "cell_type": "code",
   "execution_count": 105,
   "metadata": {},
   "outputs": [
    {
     "data": {
      "text/plain": [
       "<matplotlib.axes._subplots.AxesSubplot at 0x7f889283d350>"
      ]
     },
     "execution_count": 105,
     "metadata": {},
     "output_type": "execute_result"
    },
    {
     "data": {
      "image/png": "[encoded data removed]",
      "text/plain": [
       "<Figure size 432x288 with 1 Axes>"
      ]
     },
     "metadata": {
      "needs_background": "light"
     },
     "output_type": "display_data"
    }
   ],
   "source": [
    "merged_male.plot.scatter(x='userid',y='rating',title=\"Rating distribution amonst men\",color='DarkBlue')"
   ]
  },
  {
   "cell_type": "code",
   "execution_count": 106,
   "metadata": {},
   "outputs": [
    {
     "data": {
      "text/plain": [
       "<matplotlib.axes._subplots.AxesSubplot at 0x7f88af8dd2d0>"
      ]
     },
     "execution_count": 106,
     "metadata": {},
     "output_type": "execute_result"
    },
    {
     "data": {
      "image/png": "[encoded data removed]",
      "text/plain": [
       "<Figure size 432x288 with 1 Axes>"
      ]
     },
     "metadata": {
      "needs_background": "light"
     },
     "output_type": "display_data"
    }
   ],
   "source": [
    "merged_female.plot.scatter(x='userid',y='rating',title=\"Rating distribution amonst women\",color='Red')"
   ]
  },
  {
   "cell_type": "code",
   "execution_count": 107,
   "metadata": {},
   "outputs": [
    {
     "data": {
      "text/plain": [
       "<matplotlib.axes._subplots.AxesSubplot at 0x7f8890482590>"
      ]
     },
     "execution_count": 107,
     "metadata": {},
     "output_type": "execute_result"
    },
    {
     "data": {
      "image/png": "[encoded data removed]",
      "text/plain": [
       "<Figure size 432x288 with 1 Axes>"
      ]
     },
     "metadata": {
      "needs_background": "light"
     },
     "output_type": "display_data"
    }
   ],
   "source": [
    "merge_df.boxplot(column=[\"rating\"],by='gender')"
   ]
  },
  {
   "cell_type": "code",
   "execution_count": 108,
   "metadata": {},
   "outputs": [
    {
     "data": {
      "text/plain": [
       "<matplotlib.axes._subplots.AxesSubplot at 0x7f8890575e90>"
      ]
     },
     "execution_count": 108,
     "metadata": {},
     "output_type": "execute_result"
    },
    {
     "data": {
      "image/png": "[encoded data removed]",
      "text/plain": [
       "<Figure size 432x288 with 1 Axes>"
      ]
     },
     "metadata": {
      "needs_background": "light"
     },
     "output_type": "display_data"
    }
   ],
   "source": [
    "merge_df.boxplot(column=[\"rating\"],by='age')"
   ]
  },
  {
   "cell_type": "code",
   "execution_count": 109,
   "metadata": {},
   "outputs": [
    {
     "data": {
      "text/plain": [
       "<matplotlib.axes._subplots.AxesSubplot at 0x7f8890735210>"
      ]
     },
     "execution_count": 109,
     "metadata": {},
     "output_type": "execute_result"
    },
    {
     "data": {
      "image/png": "[encoded data removed]",
      "text/plain": [
       "<Figure size 432x288 with 1 Axes>"
      ]
     },
     "metadata": {
      "needs_background": "light"
     },
     "output_type": "display_data"
    }
   ],
   "source": [
    "merge_df.boxplot(column=[\"age\"],by='gender')"
   ]
  },
  {
   "source": [
    "## Model Inversion Attacks and Differential Privacy"
   ],
   "cell_type": "markdown",
   "metadata": {}
  },
  {
   "cell_type": "code",
   "execution_count": 123,
   "metadata": {},
   "outputs": [
    {
     "data": {
      "text/plain": [
       "<matplotlib.axes._subplots.AxesSubplot at 0x7f88944596d0>"
      ]
     },
     "execution_count": 123,
     "metadata": {},
     "output_type": "execute_result"
    },
    {
     "data": {
      "image/png": "[encoded data removed]",
      "text/plain": [
       "<Figure size 432x288 with 1 Axes>"
      ]
     },
     "metadata": {
      "needs_background": "light"
     },
     "output_type": "display_data"
    }
   ],
   "source": [
    "merge_df['rating'].plot.hist(by='rating')"
   ]
  },
  {
   "source": [
    "## Original Distribution"
   ],
   "cell_type": "markdown",
   "metadata": {}
  },
  {
   "cell_type": "code",
   "execution_count": 124,
   "metadata": {},
   "outputs": [
    {
     "data": {
      "text/plain": [
       "<matplotlib.axes._subplots.AxesSubplot at 0x7f8894859090>"
      ]
     },
     "execution_count": 124,
     "metadata": {},
     "output_type": "execute_result"
    },
    {
     "data": {
      "image/png": "[encoded data removed]",
      "text/plain": [
       "<Figure size 432x288 with 1 Axes>"
      ]
     },
     "metadata": {
      "needs_background": "light"
     },
     "output_type": "display_data"
    }
   ],
   "source": [
    "merge_df['rating'].plot.density()\n"
   ]
  },
  {
   "source": [
    "## Differetinal privacy with Laplcaian Noise Added"
   ],
   "cell_type": "markdown",
   "metadata": {}
  },
  {
   "cell_type": "code",
   "execution_count": 130,
   "metadata": {},
   "outputs": [],
   "source": [
    "## Adding noise to make the system differentially private\n",
    "import numpy as np\n",
    "def laplaceMechanism(x, epsilon):\n",
    "    x +=  np.random.laplace(0, 1.0/epsilon, 1)[0]\n",
    "    return x"
   ]
  },
  {
   "cell_type": "code",
   "execution_count": 137,
   "metadata": {},
   "outputs": [],
   "source": [
    "merge_df_diff = merge_df['rating'].apply(laplaceMechanism, args=(5,))"
   ]
  },
  {
   "cell_type": "code",
   "execution_count": 140,
   "metadata": {},
   "outputs": [
    {
     "data": {
      "text/plain": [
       "<matplotlib.axes._subplots.AxesSubplot at 0x7f8894f7ddd0>"
      ]
     },
     "execution_count": 140,
     "metadata": {},
     "output_type": "execute_result"
    },
    {
     "data": {
      "image/png": "[encoded data removed]",
      "text/plain": [
       "<Figure size 432x288 with 1 Axes>"
      ]
     },
     "metadata": {
      "needs_background": "light"
     },
     "output_type": "display_data"
    }
   ],
   "source": [
    "merge_df_diff.plot.density()"
   ]
  },
  {
   "cell_type": "code",
   "execution_count": 145,
   "metadata": {},
   "outputs": [],
   "source": [
    "eps= [0.05,1,2,5,10]\n",
    "import matplotlib.pyplot as plt"
   ]
  },
  {
   "cell_type": "code",
   "execution_count": 147,
   "metadata": {},
   "outputs": [
    {
     "data": {
      "image/png": "[encoded data removed]",
      "text/plain": [
       "<Figure size 432x288 with 1 Axes>"
      ]
     },
     "metadata": {
      "needs_background": "light"
     },
     "output_type": "display_data"
    },
    {
     "data": {
      "image/png": "[encoded data removed]",
      "text/plain": [
       "<Figure size 432x288 with 1 Axes>"
      ]
     },
     "metadata": {
      "needs_background": "light"
     },
     "output_type": "display_data"
    },
    {
     "data": {
      "image/png": "[encoded data removed]",
      "text/plain": [
       "<Figure size 432x288 with 1 Axes>"
      ]
     },
     "metadata": {
      "needs_background": "light"
     },
     "output_type": "display_data"
    },
    {
     "data": {
      "image/png": "[encoded data removed]",
      "text/plain": [
       "<Figure size 432x288 with 1 Axes>"
      ]
     },
     "metadata": {
      "needs_background": "light"
     },
     "output_type": "display_data"
    },
    {
     "data": {
      "image/png": "[encoded data removed]",
      "text/plain": [
       "<Figure size 432x288 with 1 Axes>"
      ]
     },
     "metadata": {
      "needs_background": "light"
     },
     "output_type": "display_data"
    }
   ],
   "source": [
    "for e in eps:\n",
    "    merge_df_diff = merge_df['rating'].apply(laplaceMechanism, args=(e,))\n",
    "    plt.show()\n",
    "    plt.title(f\"Epsilion value is {e}\")\n",
    "    plt.xlabel('ratings')\n",
    "    plt.ylabel('probability density')\n",
    "    merge_df_diff.plot.density()"
   ]
  },
  {
   "cell_type": "code",
   "execution_count": null,
   "metadata": {},
   "outputs": [],
   "source": []
  }
 ],
 "metadata": {
  "kernelspec": {
   "display_name": "Python 3",
   "language": "python",
   "name": "python3"
  },
  "language_info": {
   "codemirror_mode": {
    "name": "ipython",
    "version": 3
   },
   "file_extension": ".py",
   "mimetype": "text/x-python",
   "name": "python",
   "nbconvert_exporter": "python",
   "pygments_lexer": "ipython3",
   "version": "3.7.6"
  }
 },
 "nbformat": 4,
 "nbformat_minor": 4
}