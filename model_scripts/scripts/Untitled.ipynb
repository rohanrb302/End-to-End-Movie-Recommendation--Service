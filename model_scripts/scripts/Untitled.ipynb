{
 "cells": [
  {
   "cell_type": "code",
   "execution_count": 1,
   "metadata": {},
   "outputs": [],
   "source": [
    "import boto3\n",
    "import os"
   ]
  },
  {
   "cell_type": "code",
   "execution_count": 2,
   "metadata": {},
   "outputs": [],
   "source": [
    "def start_s3_client(config):\n",
    "    s3_client = boto3.client('s3' ,config['aws_access'][\"region_name\"],\n",
    "    aws_access_key_id=config['aws_access'][\"aws_access_key_id\"],\n",
    "    aws_secret_access_key=config['aws_access'][\"aws_secret_access_key\"])\n",
    "    return s3_client\n",
    "\n",
    "def load_from_s3(s3_client,prefix,local_folder_path,bucket_name):\n",
    "    PREFIX = prefix\n",
    "\n",
    "    response = s3_client.list_objects_v2(Bucket=bucket_name, Prefix=PREFIX)\n",
    "\n",
    "    for object in response['Contents']:\n",
    "        print('Downloading ', object['Key'])\n",
    "        filename_in_s3 = object['Key']\n",
    "        path = os.path.join(local_folder_path, filename_in_s3.split(\"/\")[-1])\n",
    "        s3_client.download_file(bucket_name,filename_in_s3,path)"
   ]
  },
  {
   "cell_type": "code",
   "execution_count": 3,
   "metadata": {},
   "outputs": [],
   "source": []
  },
  {
   "cell_type": "code",
   "execution_count": 7,
   "metadata": {},
   "outputs": [
    {
     "name": "stdout",
     "output_type": "stream",
     "text": [
      "Downloading  user_info/users.csv\n"
     ]
    }
   ],
   "source": [
    "bucket_name = conf['aws_access']['bucket_name']\n",
    "s3_client = start_s3_client(conf)\n",
    "prefix = \"user_info/\"\n",
    "load_from_s3(s3_client, prefix, '/home/ubuntu', bucket_name)"
   ]
  },
  {
   "cell_type": "code",
   "execution_count": null,
   "metadata": {},
   "outputs": [],
   "source": []
  }
 ],
 "metadata": {
  "kernelspec": {
   "display_name": "Environment (conda_python3)",
   "language": "python",
   "name": "conda_python3"
  },
  "language_info": {
   "codemirror_mode": {
    "name": "ipython",
    "version": 3
   },
   "file_extension": ".py",
   "mimetype": "text/x-python",
   "name": "python",
   "nbconvert_exporter": "python",
   "pygments_lexer": "ipython3",
   "version": "3.6.10"
  }
 },
 "nbformat": 4,
 "nbformat_minor": 4
}